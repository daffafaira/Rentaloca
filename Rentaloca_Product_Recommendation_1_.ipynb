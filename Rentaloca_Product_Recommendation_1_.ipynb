{
  "nbformat": 4,
  "nbformat_minor": 0,
  "metadata": {
    "colab": {
      "provenance": [],
      "gpuType": "T4"
    },
    "kernelspec": {
      "name": "python3",
      "display_name": "Python 3"
    },
    "language_info": {
      "name": "python"
    },
    "accelerator": "GPU"
  },
  "cells": [
    {
      "cell_type": "markdown",
      "metadata": {
        "id": "4A3-thdBSaP7"
      },
      "source": [
        "# Imports"
      ]
    },
    {
      "cell_type": "code",
      "execution_count": null,
      "metadata": {
        "id": "eHOV5lUdSaP7"
      },
      "outputs": [],
      "source": [
        "import numpy as np\n",
        "import pandas as pd\n",
        "import tensorflow as tf\n",
        "import os"
      ]
    },
    {
      "cell_type": "markdown",
      "metadata": {
        "id": "L_61JK5lSaP-"
      },
      "source": [
        "# Import training data"
      ]
    },
    {
      "cell_type": "code",
      "execution_count": null,
      "metadata": {
        "id": "DW5WP48wSaP_"
      },
      "outputs": [],
      "source": [
        "train = pd.read_parquet(\"https://raw.githubusercontent.com/ASOS/dsf2020/main/dsf_asos_train_with_alphanumeric_dummy_ids.parquet\")\n",
        "valid = pd.read_parquet(\"https://raw.githubusercontent.com/ASOS/dsf2020/main/dsf_asos_valid_with_alphanumeric_dummy_ids.parquet\")\n",
        "dummy_users = pd.read_csv(\"https://raw.githubusercontent.com/ASOS/dsf2020/main/dsf_asos_dummy_users_with_alphanumeric_dummy_ids.csv\", header=None).values.flatten().astype(str)\n",
        "products = pd.read_csv(\"https://raw.githubusercontent.com/ASOS/dsf2020/main/dsf_asos_productIds.csv\", header=None).values.flatten().astype(int)"
      ]
    },
    {
      "cell_type": "code",
      "source": [
        "train.head()"
      ],
      "metadata": {
        "colab": {
          "base_uri": "https://localhost:8080/",
          "height": 204
        },
        "id": "01oxsMMMigBT",
        "outputId": "b8a0b6ca-f25d-404f-e195-ecf63629a4e2"
      },
      "execution_count": null,
      "outputs": [
        {
          "output_type": "execute_result",
          "data": {
            "text/plain": [
              "               dummyUserId  productId\n",
              "0  b'PIXcm7Ru5KmntCy0yA1K'   10524048\n",
              "1  b'd0RILFB1hUzNSINMY4Ow'    9137713\n",
              "2  b'Ebax7lyhnKRm4xeRlWW2'    5808602\n",
              "3  b'vtigDw2h2vxKt0sJpEeU'   10548272\n",
              "4  b'r4GfiEaUGxziyjX0PyU6'   10988173"
            ],
            "text/html": [
              "\n",
              "  <div id=\"df-eba4b8b2-cbaa-433b-a2db-603b78735573\">\n",
              "    <div class=\"colab-df-container\">\n",
              "      <div>\n",
              "<style scoped>\n",
              "    .dataframe tbody tr th:only-of-type {\n",
              "        vertical-align: middle;\n",
              "    }\n",
              "\n",
              "    .dataframe tbody tr th {\n",
              "        vertical-align: top;\n",
              "    }\n",
              "\n",
              "    .dataframe thead th {\n",
              "        text-align: right;\n",
              "    }\n",
              "</style>\n",
              "<table border=\"1\" class=\"dataframe\">\n",
              "  <thead>\n",
              "    <tr style=\"text-align: right;\">\n",
              "      <th></th>\n",
              "      <th>dummyUserId</th>\n",
              "      <th>productId</th>\n",
              "    </tr>\n",
              "  </thead>\n",
              "  <tbody>\n",
              "    <tr>\n",
              "      <th>0</th>\n",
              "      <td>b'PIXcm7Ru5KmntCy0yA1K'</td>\n",
              "      <td>10524048</td>\n",
              "    </tr>\n",
              "    <tr>\n",
              "      <th>1</th>\n",
              "      <td>b'd0RILFB1hUzNSINMY4Ow'</td>\n",
              "      <td>9137713</td>\n",
              "    </tr>\n",
              "    <tr>\n",
              "      <th>2</th>\n",
              "      <td>b'Ebax7lyhnKRm4xeRlWW2'</td>\n",
              "      <td>5808602</td>\n",
              "    </tr>\n",
              "    <tr>\n",
              "      <th>3</th>\n",
              "      <td>b'vtigDw2h2vxKt0sJpEeU'</td>\n",
              "      <td>10548272</td>\n",
              "    </tr>\n",
              "    <tr>\n",
              "      <th>4</th>\n",
              "      <td>b'r4GfiEaUGxziyjX0PyU6'</td>\n",
              "      <td>10988173</td>\n",
              "    </tr>\n",
              "  </tbody>\n",
              "</table>\n",
              "</div>\n",
              "      <button class=\"colab-df-convert\" onclick=\"convertToInteractive('df-eba4b8b2-cbaa-433b-a2db-603b78735573')\"\n",
              "              title=\"Convert this dataframe to an interactive table.\"\n",
              "              style=\"display:none;\">\n",
              "        \n",
              "  <svg xmlns=\"http://www.w3.org/2000/svg\" height=\"24px\"viewBox=\"0 0 24 24\"\n",
              "       width=\"24px\">\n",
              "    <path d=\"M0 0h24v24H0V0z\" fill=\"none\"/>\n",
              "    <path d=\"M18.56 5.44l.94 2.06.94-2.06 2.06-.94-2.06-.94-.94-2.06-.94 2.06-2.06.94zm-11 1L8.5 8.5l.94-2.06 2.06-.94-2.06-.94L8.5 2.5l-.94 2.06-2.06.94zm10 10l.94 2.06.94-2.06 2.06-.94-2.06-.94-.94-2.06-.94 2.06-2.06.94z\"/><path d=\"M17.41 7.96l-1.37-1.37c-.4-.4-.92-.59-1.43-.59-.52 0-1.04.2-1.43.59L10.3 9.45l-7.72 7.72c-.78.78-.78 2.05 0 2.83L4 21.41c.39.39.9.59 1.41.59.51 0 1.02-.2 1.41-.59l7.78-7.78 2.81-2.81c.8-.78.8-2.07 0-2.86zM5.41 20L4 18.59l7.72-7.72 1.47 1.35L5.41 20z\"/>\n",
              "  </svg>\n",
              "      </button>\n",
              "      \n",
              "  <style>\n",
              "    .colab-df-container {\n",
              "      display:flex;\n",
              "      flex-wrap:wrap;\n",
              "      gap: 12px;\n",
              "    }\n",
              "\n",
              "    .colab-df-convert {\n",
              "      background-color: #E8F0FE;\n",
              "      border: none;\n",
              "      border-radius: 50%;\n",
              "      cursor: pointer;\n",
              "      display: none;\n",
              "      fill: #1967D2;\n",
              "      height: 32px;\n",
              "      padding: 0 0 0 0;\n",
              "      width: 32px;\n",
              "    }\n",
              "\n",
              "    .colab-df-convert:hover {\n",
              "      background-color: #E2EBFA;\n",
              "      box-shadow: 0px 1px 2px rgba(60, 64, 67, 0.3), 0px 1px 3px 1px rgba(60, 64, 67, 0.15);\n",
              "      fill: #174EA6;\n",
              "    }\n",
              "\n",
              "    [theme=dark] .colab-df-convert {\n",
              "      background-color: #3B4455;\n",
              "      fill: #D2E3FC;\n",
              "    }\n",
              "\n",
              "    [theme=dark] .colab-df-convert:hover {\n",
              "      background-color: #434B5C;\n",
              "      box-shadow: 0px 1px 3px 1px rgba(0, 0, 0, 0.15);\n",
              "      filter: drop-shadow(0px 1px 2px rgba(0, 0, 0, 0.3));\n",
              "      fill: #FFFFFF;\n",
              "    }\n",
              "  </style>\n",
              "\n",
              "      <script>\n",
              "        const buttonEl =\n",
              "          document.querySelector('#df-eba4b8b2-cbaa-433b-a2db-603b78735573 button.colab-df-convert');\n",
              "        buttonEl.style.display =\n",
              "          google.colab.kernel.accessAllowed ? 'block' : 'none';\n",
              "\n",
              "        async function convertToInteractive(key) {\n",
              "          const element = document.querySelector('#df-eba4b8b2-cbaa-433b-a2db-603b78735573');\n",
              "          const dataTable =\n",
              "            await google.colab.kernel.invokeFunction('convertToInteractive',\n",
              "                                                     [key], {});\n",
              "          if (!dataTable) return;\n",
              "\n",
              "          const docLinkHtml = 'Like what you see? Visit the ' +\n",
              "            '<a target=\"_blank\" href=https://colab.research.google.com/notebooks/data_table.ipynb>data table notebook</a>'\n",
              "            + ' to learn more about interactive tables.';\n",
              "          element.innerHTML = '';\n",
              "          dataTable['output_type'] = 'display_data';\n",
              "          await google.colab.output.renderOutput(dataTable, element);\n",
              "          const docLink = document.createElement('div');\n",
              "          docLink.innerHTML = docLinkHtml;\n",
              "          element.appendChild(docLink);\n",
              "        }\n",
              "      </script>\n",
              "    </div>\n",
              "  </div>\n",
              "  "
            ]
          },
          "metadata": {},
          "execution_count": 3
        }
      ]
    },
    {
      "cell_type": "code",
      "source": [
        "dummy_users"
      ],
      "metadata": {
        "colab": {
          "base_uri": "https://localhost:8080/"
        },
        "id": "66BmiRQFisiJ",
        "outputId": "65183cf9-15c7-4955-ae87-811b42726254"
      },
      "execution_count": null,
      "outputs": [
        {
          "output_type": "execute_result",
          "data": {
            "text/plain": [
              "array(['pmfkU4BNZhmtLgJQwJ7x', 'UDRRwOlzlWVbu7H8YCCi',\n",
              "       'QHGAef0TI6dhn0wTogvW', ..., 'lcORJ5hemOZc1iGo9z7k',\n",
              "       '5CqDquDAszqJp27P7AL8', 'SSPNYxJMfuKhoe1dg24m'], dtype='<U20')"
            ]
          },
          "metadata": {},
          "execution_count": 4
        }
      ]
    },
    {
      "cell_type": "code",
      "source": [
        "products"
      ],
      "metadata": {
        "colab": {
          "base_uri": "https://localhost:8080/"
        },
        "id": "rsBD0b_jjKev",
        "outputId": "32459a8a-470f-4838-e05a-53aebd554805"
      },
      "execution_count": null,
      "outputs": [
        {
          "output_type": "execute_result",
          "data": {
            "text/plain": [
              "array([ 8650774,  9306139,  9961521, ..., 12058614, 12058615, 11927550])"
            ]
          },
          "metadata": {},
          "execution_count": 5
        }
      ]
    },
    {
      "cell_type": "markdown",
      "metadata": {
        "id": "kgjh-TS1SaQA"
      },
      "source": [
        "# The briefest intro to tf"
      ]
    },
    {
      "cell_type": "markdown",
      "metadata": {
        "id": "HGNFcVA-SaQA"
      },
      "source": [
        "Tensors"
      ]
    },
    {
      "cell_type": "code",
      "execution_count": null,
      "metadata": {
        "id": "XR5Fv9m6SaQB",
        "colab": {
          "base_uri": "https://localhost:8080/"
        },
        "outputId": "f463f45d-d884-4ecf-a91e-aa64013bd78f"
      },
      "outputs": [
        {
          "output_type": "execute_result",
          "data": {
            "text/plain": [
              "<tf.Tensor: shape=(4,), dtype=int32, numpy=array([ 1,  4,  9, 16], dtype=int32)>"
            ]
          },
          "metadata": {},
          "execution_count": 6
        }
      ],
      "source": [
        "x = tf.constant([1,2,3,4])\n",
        "tf.math.square(x)"
      ]
    },
    {
      "cell_type": "code",
      "source": [
        "tf.constant([[1,2,3], [4,5,6]], dtype=tf.float32)"
      ],
      "metadata": {
        "colab": {
          "base_uri": "https://localhost:8080/"
        },
        "id": "Upnxb8hVkHwG",
        "outputId": "1300c30a-9801-45a3-e5b9-9afb030d344a"
      },
      "execution_count": null,
      "outputs": [
        {
          "output_type": "execute_result",
          "data": {
            "text/plain": [
              "<tf.Tensor: shape=(2, 3), dtype=float32, numpy=\n",
              "array([[1., 2., 3.],\n",
              "       [4., 5., 6.]], dtype=float32)>"
            ]
          },
          "metadata": {},
          "execution_count": 7
        }
      ]
    },
    {
      "cell_type": "code",
      "source": [
        "x = tf.Variable([1,2,3,4,5], dtype=tf.float32)\n",
        "x"
      ],
      "metadata": {
        "colab": {
          "base_uri": "https://localhost:8080/"
        },
        "id": "cwtDR0FIk4HJ",
        "outputId": "24f6e6fb-d436-40a8-aaba-35d172f4c4d3"
      },
      "execution_count": null,
      "outputs": [
        {
          "output_type": "execute_result",
          "data": {
            "text/plain": [
              "<tf.Variable 'Variable:0' shape=(5,) dtype=float32, numpy=array([1., 2., 3., 4., 5.], dtype=float32)>"
            ]
          },
          "metadata": {},
          "execution_count": 8
        }
      ]
    },
    {
      "cell_type": "markdown",
      "metadata": {
        "id": "u6Vw9fKOSaQB"
      },
      "source": [
        "Gradients"
      ]
    },
    {
      "cell_type": "code",
      "execution_count": null,
      "metadata": {
        "id": "x_T_zDMCSaQB"
      },
      "outputs": [],
      "source": [
        "with tf.GradientTape() as tape:\n",
        "  y = tf.math.square(x)"
      ]
    },
    {
      "cell_type": "code",
      "source": [
        "y"
      ],
      "metadata": {
        "colab": {
          "base_uri": "https://localhost:8080/"
        },
        "id": "qR59Z_O0laUj",
        "outputId": "d50e5f67-904c-426a-ea2a-ccfde6ab3d51"
      },
      "execution_count": null,
      "outputs": [
        {
          "output_type": "execute_result",
          "data": {
            "text/plain": [
              "<tf.Tensor: shape=(5,), dtype=float32, numpy=array([ 1.,  4.,  9., 16., 25.], dtype=float32)>"
            ]
          },
          "metadata": {},
          "execution_count": 10
        }
      ]
    },
    {
      "cell_type": "code",
      "source": [
        "dy_dx = tape.gradient(y,x)\n",
        "dy_dx"
      ],
      "metadata": {
        "colab": {
          "base_uri": "https://localhost:8080/"
        },
        "id": "_UdlsUnjlbY_",
        "outputId": "1e6858f5-efaf-4474-dec7-ee0be0717547"
      },
      "execution_count": null,
      "outputs": [
        {
          "output_type": "execute_result",
          "data": {
            "text/plain": [
              "<tf.Tensor: shape=(5,), dtype=float32, numpy=array([ 2.,  4.,  6.,  8., 10.], dtype=float32)>"
            ]
          },
          "metadata": {},
          "execution_count": 11
        }
      ]
    },
    {
      "cell_type": "markdown",
      "metadata": {
        "id": "5ZHNiUtKSaQC"
      },
      "source": [
        "Multiply and add tensors"
      ]
    },
    {
      "cell_type": "code",
      "execution_count": null,
      "metadata": {
        "id": "WguMAWHqSaQE"
      },
      "outputs": [],
      "source": [
        "x = tf.constant([[1,2,3]], dtype=tf.float32)\n",
        "Y = tf.constant([[1,2,3, 4], [1,2,3,4], [1,2,3,4]], dtype=tf.float32)"
      ]
    },
    {
      "cell_type": "code",
      "execution_count": null,
      "metadata": {
        "id": "2wv5CEQdSaQE",
        "colab": {
          "base_uri": "https://localhost:8080/"
        },
        "outputId": "6fa5a00f-8fb6-413b-fa23-2a006be5e4c0"
      },
      "outputs": [
        {
          "output_type": "execute_result",
          "data": {
            "text/plain": [
              "<tf.Tensor: shape=(1, 3), dtype=float32, numpy=array([[1., 2., 3.]], dtype=float32)>"
            ]
          },
          "metadata": {},
          "execution_count": 13
        }
      ],
      "source": [
        "x"
      ]
    },
    {
      "cell_type": "code",
      "source": [
        "Y"
      ],
      "metadata": {
        "colab": {
          "base_uri": "https://localhost:8080/"
        },
        "id": "_s3a7zx3na85",
        "outputId": "0902fbd9-64c4-42a1-ed98-b6e906a6bece"
      },
      "execution_count": null,
      "outputs": [
        {
          "output_type": "execute_result",
          "data": {
            "text/plain": [
              "<tf.Tensor: shape=(3, 4), dtype=float32, numpy=\n",
              "array([[1., 2., 3., 4.],\n",
              "       [1., 2., 3., 4.],\n",
              "       [1., 2., 3., 4.]], dtype=float32)>"
            ]
          },
          "metadata": {},
          "execution_count": 14
        }
      ]
    },
    {
      "cell_type": "code",
      "source": [
        "tf.matmul(x, Y)"
      ],
      "metadata": {
        "colab": {
          "base_uri": "https://localhost:8080/"
        },
        "id": "nYopeUjLnchS",
        "outputId": "e5ceb4ac-f8b4-4ee3-cead-e546521c8958"
      },
      "execution_count": null,
      "outputs": [
        {
          "output_type": "execute_result",
          "data": {
            "text/plain": [
              "<tf.Tensor: shape=(1, 4), dtype=float32, numpy=array([[ 6., 12., 18., 24.]], dtype=float32)>"
            ]
          },
          "metadata": {},
          "execution_count": 15
        }
      ]
    },
    {
      "cell_type": "code",
      "execution_count": null,
      "metadata": {
        "id": "oaj8UHb3SaQE"
      },
      "outputs": [],
      "source": [
        "z = tf.constant([10, 11, 12, 13], dtype=tf.float32)"
      ]
    },
    {
      "cell_type": "code",
      "source": [
        "tf.matmul(x, Y) + z"
      ],
      "metadata": {
        "colab": {
          "base_uri": "https://localhost:8080/"
        },
        "id": "i1t9YCfInwRg",
        "outputId": "1fe3f71e-9432-4fd9-a9bf-49b72327e7bb"
      },
      "execution_count": null,
      "outputs": [
        {
          "output_type": "execute_result",
          "data": {
            "text/plain": [
              "<tf.Tensor: shape=(1, 4), dtype=float32, numpy=array([[16., 23., 30., 37.]], dtype=float32)>"
            ]
          },
          "metadata": {},
          "execution_count": 17
        }
      ]
    },
    {
      "cell_type": "markdown",
      "metadata": {
        "id": "TOOmI7pESaQE"
      },
      "source": [
        "This operation is very common in deep learning, so it has been abstracted:"
      ]
    },
    {
      "cell_type": "code",
      "execution_count": null,
      "metadata": {
        "id": "Ej-44L54SaQF",
        "colab": {
          "base_uri": "https://localhost:8080/"
        },
        "outputId": "89bd97f8-2e94-4132-a3a5-56b569cef4e4"
      },
      "outputs": [
        {
          "output_type": "execute_result",
          "data": {
            "text/plain": [
              "<tf.Tensor: shape=(1, 4), dtype=float32, numpy=array([[16., 23., 30., 37.]], dtype=float32)>"
            ]
          },
          "metadata": {},
          "execution_count": 18
        }
      ],
      "source": [
        "dl1 = tf.keras.layers.Dense(4, use_bias = True, weights = [Y, z])\n",
        "dl1(x)"
      ]
    },
    {
      "cell_type": "markdown",
      "metadata": {
        "id": "b9fON9ljSaQF"
      },
      "source": [
        "You can choose to apply a function to each value in the output"
      ]
    },
    {
      "cell_type": "code",
      "execution_count": null,
      "metadata": {
        "id": "l1CAYftcSaQF",
        "colab": {
          "base_uri": "https://localhost:8080/"
        },
        "outputId": "5b23cd4d-a6b1-457c-988a-a614a2dfbcc5"
      },
      "outputs": [
        {
          "output_type": "execute_result",
          "data": {
            "text/plain": [
              "<tf.Tensor: shape=(1, 4), dtype=float32, numpy=array([[17., 24., 31., 38.]], dtype=float32)>"
            ]
          },
          "metadata": {},
          "execution_count": 19
        }
      ],
      "source": [
        "dl2 = tf.keras.layers.Dense(4, use_bias = True, weights = [Y, z], activation = lambda x: x+1)\n",
        "dl2(x)"
      ]
    },
    {
      "cell_type": "markdown",
      "metadata": {
        "id": "Njj0mfwnSaQF"
      },
      "source": [
        "We can put different layers together in a sequence:"
      ]
    },
    {
      "cell_type": "code",
      "execution_count": null,
      "metadata": {
        "id": "-w1MqeUASaQF"
      },
      "outputs": [],
      "source": [
        "dl3 = tf.keras.layers.Dense(1, use_bias=False, \\\n",
        "                             weights=[tf.constant([[0], [1], [0], [1]], \\\n",
        "                                                  dtype=tf.float32)])"
      ]
    },
    {
      "cell_type": "code",
      "execution_count": null,
      "metadata": {
        "id": "xZMk9MP6SaQF",
        "colab": {
          "base_uri": "https://localhost:8080/"
        },
        "outputId": "94a1c7c9-114f-455d-ed6d-b06026e131d9"
      },
      "outputs": [
        {
          "output_type": "execute_result",
          "data": {
            "text/plain": [
              "<tf.Tensor: shape=(1, 4), dtype=float32, numpy=array([[17., 24., 31., 38.]], dtype=float32)>"
            ]
          },
          "metadata": {},
          "execution_count": 21
        }
      ],
      "source": [
        "x_b = dl2(x)\n",
        "x_b"
      ]
    },
    {
      "cell_type": "code",
      "source": [
        "dl3(x_b)"
      ],
      "metadata": {
        "colab": {
          "base_uri": "https://localhost:8080/"
        },
        "id": "R_9oQNsiqJ97",
        "outputId": "3816d99a-f1da-407a-afe1-d0e2bc3f168f"
      },
      "execution_count": null,
      "outputs": [
        {
          "output_type": "execute_result",
          "data": {
            "text/plain": [
              "<tf.Tensor: shape=(1, 1), dtype=float32, numpy=array([[62.]], dtype=float32)>"
            ]
          },
          "metadata": {},
          "execution_count": 22
        }
      ]
    },
    {
      "cell_type": "markdown",
      "metadata": {
        "id": "m3ombMU8SaQF"
      },
      "source": [
        "We can get more flexibility if you use tf.keras.model:"
      ]
    },
    {
      "cell_type": "code",
      "execution_count": null,
      "metadata": {
        "id": "NbqLmnOASaQG"
      },
      "outputs": [],
      "source": [
        "class simple_model(tf.keras.Model):\n",
        "  def __init__(self):\n",
        "    super(simple_model, self).__init__()\n",
        "    self.dl2 = tf.keras.layers.Dense(4, use_bias = True, weights = [Y, z], activation = lambda x: x+1)\n",
        "    self.dl3 = tf.keras.layers.Dense(1, use_bias=False, \\\n",
        "                             weights=[tf.constant([[0], [1], [0], [1]], \\\n",
        "                                                  dtype=tf.float32)])\n",
        "\n",
        "  def call (self, x):\n",
        "    x_b = self.dl2(x)\n",
        "    return self.dl3(x_b), x_b, x_b+243"
      ]
    },
    {
      "cell_type": "code",
      "source": [
        "sm = simple_model()\n",
        "sm(x)"
      ],
      "metadata": {
        "colab": {
          "base_uri": "https://localhost:8080/"
        },
        "id": "YmZBBqfErejV",
        "outputId": "a20e1300-572b-4b4c-9d1b-87796faf78f8"
      },
      "execution_count": null,
      "outputs": [
        {
          "output_type": "execute_result",
          "data": {
            "text/plain": [
              "(<tf.Tensor: shape=(1, 1), dtype=float32, numpy=array([[62.]], dtype=float32)>,\n",
              " <tf.Tensor: shape=(1, 4), dtype=float32, numpy=array([[17., 24., 31., 38.]], dtype=float32)>,\n",
              " <tf.Tensor: shape=(1, 4), dtype=float32, numpy=array([[260., 267., 274., 281.]], dtype=float32)>)"
            ]
          },
          "metadata": {},
          "execution_count": 24
        }
      ]
    },
    {
      "cell_type": "markdown",
      "metadata": {
        "id": "qhH5SQMCSaQG"
      },
      "source": [
        "So far we have been setting the weights of the dense layers, but if we don't set the weights than weights get randomly chosen."
      ]
    },
    {
      "cell_type": "code",
      "source": [
        "x"
      ],
      "metadata": {
        "colab": {
          "base_uri": "https://localhost:8080/"
        },
        "id": "73WqKLAiu18d",
        "outputId": "326f1449-7db2-49c1-ae5b-d5f688a89007"
      },
      "execution_count": null,
      "outputs": [
        {
          "output_type": "execute_result",
          "data": {
            "text/plain": [
              "<tf.Tensor: shape=(1, 3), dtype=float32, numpy=array([[1., 2., 3.]], dtype=float32)>"
            ]
          },
          "metadata": {},
          "execution_count": 25
        }
      ]
    },
    {
      "cell_type": "code",
      "execution_count": null,
      "metadata": {
        "id": "4_RUaU7HSaQG",
        "colab": {
          "base_uri": "https://localhost:8080/"
        },
        "outputId": "fb10d3b3-feac-4d18-aab8-0bcd1943cfe3"
      },
      "outputs": [
        {
          "output_type": "execute_result",
          "data": {
            "text/plain": [
              "<tf.Tensor: shape=(1, 4), dtype=float32, numpy=\n",
              "array([[ 0.43433076, -1.6934373 , -3.6554015 ,  2.345599  ]],\n",
              "      dtype=float32)>"
            ]
          },
          "metadata": {},
          "execution_count": 26
        }
      ],
      "source": [
        "dl6 = tf.keras.layers.Dense(4, use_bias=True)\n",
        "dl6(x)"
      ]
    },
    {
      "cell_type": "code",
      "execution_count": null,
      "metadata": {
        "id": "GBbta-UySaQG",
        "colab": {
          "base_uri": "https://localhost:8080/"
        },
        "outputId": "7416a83c-4b1b-46c5-afa4-1a610e7200bb"
      },
      "outputs": [
        {
          "output_type": "execute_result",
          "data": {
            "text/plain": [
              "[array([[-0.1492458 ,  0.6788677 , -0.34617007,  0.9130516 ],\n",
              "        [-0.21619028, -0.8365337 , -0.7024578 ,  0.86763823],\n",
              "        [ 0.33865237, -0.2330792 , -0.6347719 , -0.10090971]],\n",
              "       dtype=float32),\n",
              " array([0., 0., 0., 0.], dtype=float32)]"
            ]
          },
          "metadata": {},
          "execution_count": 27
        }
      ],
      "source": [
        "dl6.get_weights()"
      ]
    },
    {
      "cell_type": "markdown",
      "metadata": {
        "id": "mdnOTK4ySaQG"
      },
      "source": [
        "# Define a Recommender Model"
      ]
    },
    {
      "cell_type": "markdown",
      "metadata": {
        "id": "24J1mUQqSaQG"
      },
      "source": [
        "The embedding layer gives a list of random numbers for each user and each product."
      ]
    },
    {
      "cell_type": "code",
      "execution_count": null,
      "metadata": {
        "id": "LJk_3lpYSaQH"
      },
      "outputs": [],
      "source": [
        "embed1 = tf.keras.layers.Embedding(5, 8)"
      ]
    },
    {
      "cell_type": "code",
      "source": [
        "embed1 (2)"
      ],
      "metadata": {
        "colab": {
          "base_uri": "https://localhost:8080/"
        },
        "id": "ux6jzxxMvQ_c",
        "outputId": "d28a12cc-e038-4c47-f54f-bbed640bbcd0"
      },
      "execution_count": null,
      "outputs": [
        {
          "output_type": "execute_result",
          "data": {
            "text/plain": [
              "<tf.Tensor: shape=(8,), dtype=float32, numpy=\n",
              "array([-0.00257894, -0.03958514,  0.04025644,  0.00097768,  0.01427262,\n",
              "       -0.00640005,  0.02612795,  0.01335725], dtype=float32)>"
            ]
          },
          "metadata": {},
          "execution_count": 29
        }
      ]
    },
    {
      "cell_type": "code",
      "source": [
        "embed1.get_weights()"
      ],
      "metadata": {
        "colab": {
          "base_uri": "https://localhost:8080/"
        },
        "id": "Rb91q742vUiy",
        "outputId": "11756b68-f11d-47ce-ffb5-2749cb9eee50"
      },
      "execution_count": null,
      "outputs": [
        {
          "output_type": "execute_result",
          "data": {
            "text/plain": [
              "[array([[-0.01641094, -0.03399682,  0.04162959,  0.00455916,  0.00509644,\n",
              "         -0.04871881, -0.01700253,  0.01818294],\n",
              "        [-0.01457538, -0.04096078, -0.02669026,  0.02795622, -0.01197611,\n",
              "         -0.0231735 ,  0.03887588,  0.0065553 ],\n",
              "        [-0.00257894, -0.03958514,  0.04025644,  0.00097768,  0.01427262,\n",
              "         -0.00640005,  0.02612795,  0.01335725],\n",
              "        [-0.03630384, -0.04046137,  0.04533209, -0.01858472,  0.03376862,\n",
              "         -0.01151227,  0.00717432,  0.02077557],\n",
              "        [ 0.04177631, -0.04659698,  0.015605  , -0.01091342, -0.03442551,\n",
              "          0.02305443,  0.01970362,  0.04549439]], dtype=float32)]"
            ]
          },
          "metadata": {},
          "execution_count": 30
        }
      ]
    },
    {
      "cell_type": "markdown",
      "metadata": {
        "id": "qBdkx9JRSaQH"
      },
      "source": [
        "Scores can be found using the dot product."
      ]
    },
    {
      "cell_type": "code",
      "source": [
        "dummy_users"
      ],
      "metadata": {
        "colab": {
          "base_uri": "https://localhost:8080/"
        },
        "id": "A9gY_8D1wEWJ",
        "outputId": "cc4d4996-af23-4155-8805-d6a68018453b"
      },
      "execution_count": null,
      "outputs": [
        {
          "output_type": "execute_result",
          "data": {
            "text/plain": [
              "array(['pmfkU4BNZhmtLgJQwJ7x', 'UDRRwOlzlWVbu7H8YCCi',\n",
              "       'QHGAef0TI6dhn0wTogvW', ..., 'lcORJ5hemOZc1iGo9z7k',\n",
              "       '5CqDquDAszqJp27P7AL8', 'SSPNYxJMfuKhoe1dg24m'], dtype='<U20')"
            ]
          },
          "metadata": {},
          "execution_count": 31
        }
      ]
    },
    {
      "cell_type": "code",
      "source": [
        "products"
      ],
      "metadata": {
        "colab": {
          "base_uri": "https://localhost:8080/"
        },
        "id": "GNFBz_8SwOaC",
        "outputId": "14decbd8-5561-47bb-fcd0-70d38e537ce2"
      },
      "execution_count": null,
      "outputs": [
        {
          "output_type": "execute_result",
          "data": {
            "text/plain": [
              "array([ 8650774,  9306139,  9961521, ..., 12058614, 12058615, 11927550])"
            ]
          },
          "metadata": {},
          "execution_count": 32
        }
      ]
    },
    {
      "cell_type": "code",
      "source": [
        "dummy_user_embedding = tf.keras.layers.Embedding(len(dummy_users), 6)\n",
        "product_embedding = tf.keras.layers.Embedding(len(products), 6)"
      ],
      "metadata": {
        "id": "3XC6zaS4vP_D"
      },
      "execution_count": null,
      "outputs": []
    },
    {
      "cell_type": "code",
      "execution_count": null,
      "metadata": {
        "id": "djwN1rmVSaQH",
        "colab": {
          "base_uri": "https://localhost:8080/"
        },
        "outputId": "587d9557-4c84-44e5-e6b8-a5f3c162db6c"
      },
      "outputs": [
        {
          "output_type": "execute_result",
          "data": {
            "text/plain": [
              "<tf.Tensor: shape=(6,), dtype=float32, numpy=\n",
              "array([ 0.0477454 ,  0.02881812, -0.01819872,  0.00404227, -0.00665909,\n",
              "        0.03429418], dtype=float32)>"
            ]
          },
          "metadata": {},
          "execution_count": 34
        }
      ],
      "source": [
        "dummy_user_embedding(1)"
      ]
    },
    {
      "cell_type": "code",
      "source": [
        "product_embedding(99)"
      ],
      "metadata": {
        "colab": {
          "base_uri": "https://localhost:8080/"
        },
        "id": "tfrVxlgGwdpC",
        "outputId": "c2d14978-793c-49f0-aebb-28d3759e9510"
      },
      "execution_count": null,
      "outputs": [
        {
          "output_type": "execute_result",
          "data": {
            "text/plain": [
              "<tf.Tensor: shape=(6,), dtype=float32, numpy=\n",
              "array([-0.02768735, -0.03918357, -0.00546094,  0.03041121,  0.02176415,\n",
              "        0.0442209 ], dtype=float32)>"
            ]
          },
          "metadata": {},
          "execution_count": 35
        }
      ]
    },
    {
      "cell_type": "code",
      "source": [
        "tf.tensordot(dummy_user_embedding(1), product_embedding(99), axes = [[0], [0]])"
      ],
      "metadata": {
        "colab": {
          "base_uri": "https://localhost:8080/"
        },
        "id": "DL1W4ZsQwl7C",
        "outputId": "e3922044-b901-4bc7-fcda-7a1b6c0dc7c2"
      },
      "execution_count": null,
      "outputs": [
        {
          "output_type": "execute_result",
          "data": {
            "text/plain": [
              "<tf.Tensor: shape=(), dtype=float32, numpy=-0.0008572381>"
            ]
          },
          "metadata": {},
          "execution_count": 36
        }
      ]
    },
    {
      "cell_type": "markdown",
      "metadata": {
        "id": "D6UkW48GSaQH"
      },
      "source": [
        "We can score multiple products at the same time, which is what we need to create a ranking."
      ]
    },
    {
      "cell_type": "code",
      "execution_count": null,
      "metadata": {
        "id": "CpZr1Et6SaQH",
        "colab": {
          "base_uri": "https://localhost:8080/"
        },
        "outputId": "b50262b9-7fef-4c61-ca44-60e75856abdf"
      },
      "outputs": [
        {
          "output_type": "execute_result",
          "data": {
            "text/plain": [
              "<tf.Tensor: shape=(4, 6), dtype=float32, numpy=\n",
              "array([[ 0.0063548 , -0.0145635 , -0.01531078,  0.02389188,  0.00751176,\n",
              "         0.04862023],\n",
              "       [ 0.02810464,  0.04816494, -0.04614706,  0.01200575,  0.00524074,\n",
              "         0.04180673],\n",
              "       [ 0.0305212 ,  0.02000762,  0.00081434, -0.00863719, -0.00357907,\n",
              "         0.04246792],\n",
              "       [ 0.04033254,  0.03011099,  0.01171038,  0.04334705,  0.03352748,\n",
              "        -0.00126276]], dtype=float32)>"
            ]
          },
          "metadata": {},
          "execution_count": 37
        }
      ],
      "source": [
        "example_product = tf.constant([1, 66, 398, 8547])\n",
        "product_embedding(example_product)"
      ]
    },
    {
      "cell_type": "code",
      "source": [
        "tf.tensordot(dummy_user_embedding(1), product_embedding(example_product), axes=[[0], [1]])"
      ],
      "metadata": {
        "colab": {
          "base_uri": "https://localhost:8080/"
        },
        "id": "Z85qMR0d6WkS",
        "outputId": "42191a6f-f6c9-4b8c-ee84-ef8c2fb84f5b"
      },
      "execution_count": null,
      "outputs": [
        {
          "output_type": "execute_result",
          "data": {
            "text/plain": [
              "<tf.Tensor: shape=(4,), dtype=float32, numpy=array([0.0018763 , 0.00501707, 0.00346433, 0.00248897], dtype=float32)>"
            ]
          },
          "metadata": {},
          "execution_count": 38
        }
      ]
    },
    {
      "cell_type": "markdown",
      "metadata": {
        "id": "5ExAtsdASaQH"
      },
      "source": [
        "And we can score multiple users for multiple products which we will need to do if we are to train quickly."
      ]
    },
    {
      "cell_type": "code",
      "execution_count": null,
      "metadata": {
        "id": "gBftbkZ8SaQH"
      },
      "outputs": [],
      "source": []
    },
    {
      "cell_type": "markdown",
      "metadata": {
        "id": "wmUdsHz_SaQI"
      },
      "source": [
        "But we need to map product ids to embedding ids."
      ]
    },
    {
      "cell_type": "code",
      "source": [
        "products"
      ],
      "metadata": {
        "colab": {
          "base_uri": "https://localhost:8080/"
        },
        "id": "i2NER0ZV8lZX",
        "outputId": "c4019643-ad2c-40fa-81ff-a53d669f670b"
      },
      "execution_count": null,
      "outputs": [
        {
          "output_type": "execute_result",
          "data": {
            "text/plain": [
              "array([ 8650774,  9306139,  9961521, ..., 12058614, 12058615, 11927550])"
            ]
          },
          "metadata": {},
          "execution_count": 39
        }
      ]
    },
    {
      "cell_type": "code",
      "execution_count": null,
      "metadata": {
        "id": "KBRm1lYnSaQI"
      },
      "outputs": [],
      "source": [
        "product_table = tf.lookup.StaticHashTable(\n",
        "    tf.lookup.KeyValueTensorInitializer(tf.constant(products, dtype=tf.int32),\n",
        "                                        range(len(products))), -1)"
      ]
    },
    {
      "cell_type": "code",
      "source": [
        "product_table.lookup(tf.constant([12058614]))"
      ],
      "metadata": {
        "colab": {
          "base_uri": "https://localhost:8080/"
        },
        "id": "MFHbDKWF9OPs",
        "outputId": "28c1952b-6287-4ac6-f06a-2fd7e06a1315"
      },
      "execution_count": null,
      "outputs": [
        {
          "output_type": "execute_result",
          "data": {
            "text/plain": [
              "<tf.Tensor: shape=(1,), dtype=int32, numpy=array([29693], dtype=int32)>"
            ]
          },
          "metadata": {},
          "execution_count": 41
        }
      ]
    },
    {
      "cell_type": "markdown",
      "metadata": {
        "id": "k4eYWcyvSaQI"
      },
      "source": [
        "Let's put those two things together"
      ]
    },
    {
      "cell_type": "code",
      "execution_count": null,
      "metadata": {
        "id": "RnrFYFCMSaQI"
      },
      "outputs": [],
      "source": [
        "class SimpleRecommender(tf.keras.Model):\n",
        "    def __init__(self, dummy_users, products, length_of_embedding):\n",
        "        super(SimpleRecommender, self).__init__()\n",
        "        self.products = tf.constant(products, dtype=tf.int32)\n",
        "        self.dummy_users = tf.constant(dummy_users, dtype=tf.string)\n",
        "        self.dummy_user_table = tf.lookup.StaticHashTable(tf.lookup.KeyValueTensorInitializer(self.dummy_users, range(len(dummy_users))), -1)\n",
        "        self.product_table = tf.lookup.StaticHashTable(tf.lookup.KeyValueTensorInitializer(self.products, range(len(products))), -1)\n",
        "\n",
        "        self.user_embedding = tf.keras.layers.Embedding(len(dummy_users), length_of_embedding)\n",
        "        self.product_embedding = tf.keras.layers.Embedding(len(products), length_of_embedding)\n",
        "\n",
        "        self.dot = tf.keras.layers.Dot(axes=-1)\n",
        "\n",
        "    def call(self, inputs):\n",
        "        user = input[0]\n",
        "        products = inputs[1]\n",
        "\n",
        "        user_embedding_index = self.dummy_user_table.lookup(user)\n",
        "        product_embedding_index = self.product_table.lookup(products)\n",
        "\n",
        "        user_embedding_values = self.usrr_embedding(user_embedding_index)\n",
        "        product_embedding_values = self.product_embedding(product_embedding_index)\n",
        "\n",
        "        return self.dot([user_embedding_values, product_embedding_values])\n",
        "\n",
        "    @tf.function\n",
        "    def call_item_item(self, product):\n",
        "        product_x = self.product_table.lookup(product)\n",
        "        pe = tf.expand_dims(self.product_embedding(product_x), 0)\n",
        "\n",
        "        all_pe = tf.expand_dims(self.product_embedding.embeddings, 0)#note this only works if the layer has been built!\n",
        "        scores = tf.reshape(self.dot([pe, all_pe]), [-1])\n",
        "\n",
        "        top_scores, top_indices = tf.math.top_k(scores, k=100)\n",
        "        top_ids = tf.gather(self.products, top_indices)\n",
        "        return top_ids, top_scores"
      ]
    },
    {
      "cell_type": "code",
      "source": [
        "dummy_users"
      ],
      "metadata": {
        "colab": {
          "base_uri": "https://localhost:8080/"
        },
        "id": "dBFdrAKD_vIV",
        "outputId": "5fd3ec90-09d8-4797-c900-5e9abf17562b"
      },
      "execution_count": null,
      "outputs": [
        {
          "output_type": "execute_result",
          "data": {
            "text/plain": [
              "array(['pmfkU4BNZhmtLgJQwJ7x', 'UDRRwOlzlWVbu7H8YCCi',\n",
              "       'QHGAef0TI6dhn0wTogvW', ..., 'lcORJ5hemOZc1iGo9z7k',\n",
              "       '5CqDquDAszqJp27P7AL8', 'SSPNYxJMfuKhoe1dg24m'], dtype='<U20')"
            ]
          },
          "metadata": {},
          "execution_count": 43
        }
      ]
    },
    {
      "cell_type": "code",
      "source": [
        "products"
      ],
      "metadata": {
        "colab": {
          "base_uri": "https://localhost:8080/"
        },
        "id": "pFqdWxuk_2td",
        "outputId": "159c5917-9673-4890-945c-76bb617d61e7"
      },
      "execution_count": null,
      "outputs": [
        {
          "output_type": "execute_result",
          "data": {
            "text/plain": [
              "array([ 8650774,  9306139,  9961521, ..., 12058614, 12058615, 11927550])"
            ]
          },
          "metadata": {},
          "execution_count": 44
        }
      ]
    },
    {
      "cell_type": "code",
      "source": [
        "class SimpleRecommender(tf.keras.Model):\n",
        "    def __init__(self, users, products, num_recommendations):\n",
        "        super(SimpleRecommender, self).__init__()\n",
        "        self.users = users\n",
        "        self.products = products\n",
        "        self.num_recommendations = num_recommendations\n",
        "\n",
        "    def call(self, inputs):\n",
        "        user = inputs[0]\n",
        "        products = inputs[1]\n",
        "\n",
        "        # Your logic for recommendation goes here\n",
        "        recommendations = [...]  # Replace [...] with your recommendation logic\n",
        "\n",
        "        return recommendations\n",
        "\n",
        "# Create an instance of SimpleRecommender\n",
        "sr1 = SimpleRecommender(dummy_users, products, 15)\n",
        "\n",
        "# Call the instance using input tensors\n",
        "recommendations = sr1([tf.constant(['pmfkU4BNZhmtLgJQwJ7x']),\n",
        "                      tf.constant([8650774, 9306139, 9961521])])\n",
        "print(recommendations)\n"
      ],
      "metadata": {
        "colab": {
          "base_uri": "https://localhost:8080/"
        },
        "id": "WOwBLokN_dYa",
        "outputId": "d2dfd9f1-7c0d-4cba-af02-9f87b38073e6"
      },
      "execution_count": null,
      "outputs": [
        {
          "output_type": "stream",
          "name": "stdout",
          "text": [
            "[Ellipsis]\n"
          ]
        }
      ]
    },
    {
      "cell_type": "markdown",
      "metadata": {
        "id": "9oDiRb0PSaQM"
      },
      "source": [
        "# Creating a dataset"
      ]
    },
    {
      "cell_type": "markdown",
      "metadata": {
        "id": "juF63JDpSaQM"
      },
      "source": [
        "First create a tf.data.Dataset from the user purchase pairs."
      ]
    },
    {
      "cell_type": "code",
      "execution_count": null,
      "metadata": {
        "id": "TQFGBVmGSaQN",
        "colab": {
          "base_uri": "https://localhost:8080/"
        },
        "outputId": "2d4a1223-5de1-43ea-b8d4-8a465275a6c1"
      },
      "outputs": [
        {
          "output_type": "stream",
          "name": "stdout",
          "text": [
            "tf.Tensor([b'PIXcm7Ru5KmntCy0yA1K'], shape=(1,), dtype=string)\n",
            "tf.Tensor([10524048], shape=(1,), dtype=int32)\n"
          ]
        }
      ],
      "source": [
        "dummy_user_tensor = tf.constant(train[[\"dummyUserId\"]].values, dtype=tf.string)\n",
        "product_tensor = tf.constant(train[[\"productId\"]].values, dtype=tf.int32)\n",
        "\n",
        "dataset = tf.data.Dataset.from_tensor_slices((dummy_user_tensor, product_tensor))\n",
        "for x, y in dataset:\n",
        "    print(x)\n",
        "    print(y)\n",
        "    break"
      ]
    },
    {
      "cell_type": "markdown",
      "metadata": {
        "id": "lydvsgX2SaQN"
      },
      "source": [
        "For each purchase let's sample a number of products that the user did not purchase. Then the model can score each of the products and we will know we are doing a good job if the product with the highest score is the product that the user actually purchased.\n",
        "\n",
        "We can do this using dataset.map"
      ]
    },
    {
      "cell_type": "code",
      "execution_count": null,
      "metadata": {
        "id": "eoHLy2R7SaQN"
      },
      "outputs": [],
      "source": [
        "class Mapper():\n",
        "\n",
        "    def __init__(self, possible_products, num_negative_products):\n",
        "        self.num_possible_products = len(possible_products)\n",
        "        self.possible_products_tensor = tf.constant(possible_products, dtype=tf.int32)\n",
        "\n",
        "        self.num_negative_products = num_negative_products\n",
        "\n",
        "    def __call__(self, user, product):\n",
        "        return user, product"
      ]
    },
    {
      "cell_type": "markdown",
      "metadata": {
        "id": "Rf4PISW3SaQO"
      },
      "source": [
        "Let's bring the steps together to define a function which creates a dataset"
      ]
    },
    {
      "cell_type": "code",
      "execution_count": null,
      "metadata": {
        "id": "ipqHcCHtSaQO"
      },
      "outputs": [],
      "source": [
        "def get_dataset():\n",
        "    pass"
      ]
    },
    {
      "cell_type": "markdown",
      "metadata": {
        "id": "d8uyVKA6SaQO"
      },
      "source": [
        "# Train a model"
      ]
    },
    {
      "cell_type": "markdown",
      "metadata": {
        "id": "Ok1AWkCnSaQO"
      },
      "source": [
        "We need to compile a model, set the loss and create an evaluation metric. Then we need to train the model."
      ]
    },
    {
      "cell_type": "code",
      "execution_count": null,
      "metadata": {
        "id": "fwrrjS9sSaQP"
      },
      "outputs": [],
      "source": []
    },
    {
      "cell_type": "markdown",
      "metadata": {
        "id": "8ZCp54uLSaQP"
      },
      "source": [
        "Let's do a manual check on whether the model is any good."
      ]
    },
    {
      "cell_type": "code",
      "execution_count": null,
      "metadata": {
        "id": "Q6jCc_15SaQP"
      },
      "outputs": [],
      "source": [
        "test_product = 11698965"
      ]
    },
    {
      "cell_type": "code",
      "execution_count": null,
      "metadata": {
        "id": "oCjs6v0YSaQP",
        "colab": {
          "base_uri": "https://localhost:8080/"
        },
        "outputId": "7844445e-81a0-4272-9d0f-fb25bfe0da63"
      },
      "outputs": [
        {
          "output_type": "stream",
          "name": "stdout",
          "text": [
            "Recs for item 11698965: [Ellipsis]\n"
          ]
        }
      ],
      "source": [
        "import tensorflow as tf\n",
        "\n",
        "# Instantiate the model\n",
        "# Define the users, products, and num_recommendations\n",
        "users = ['user1', 'user2', 'user3']\n",
        "products = ['product1', 'product2', 'product3']\n",
        "num_recommendations = 10\n",
        "\n",
        "# Instantiate the SimpleRecommender class with the required arguments\n",
        "model = SimpleRecommender(users, products, num_recommendations)\n",
        "\n",
        "\n",
        "# Print the recommendations\n",
        "print(\"Recs for item {}: {}\".format(test_product, recommendations))\n"
      ]
    },
    {
      "cell_type": "markdown",
      "metadata": {
        "id": "0p-H__brSaQP"
      },
      "source": [
        "# Save the model"
      ]
    },
    {
      "cell_type": "code",
      "execution_count": null,
      "metadata": {
        "id": "G4ahPx3WSaQQ"
      },
      "outputs": [],
      "source": [
        "model_path = \"models/recommender/1\""
      ]
    },
    {
      "cell_type": "code",
      "execution_count": null,
      "metadata": {
        "id": "sj5SmHf_SaQQ"
      },
      "outputs": [],
      "source": [
        "inpute_signature = tf.TensorSpec(shape=(), dtype=tf.int32)"
      ]
    },
    {
      "cell_type": "code",
      "execution_count": null,
      "metadata": {
        "id": "Ub6yw1e1SaQQ",
        "colab": {
          "base_uri": "https://localhost:8080/"
        },
        "outputId": "0e09d719-1493-43bc-d2f4-c62f3fe567fe"
      },
      "outputs": [
        {
          "output_type": "stream",
          "name": "stdout",
          "text": [
            "{'call_item_item': <ConcreteFunction call_item_item(product) at 0x7F3A1B961630>}\n"
          ]
        }
      ],
      "source": [
        "class SimpleRecommender(tf.keras.Model):\n",
        "    def __init__(self, users, products, num_recommendations):\n",
        "        super(SimpleRecommender, self).__init__()\n",
        "        # Initialize variables and setup\n",
        "        self.users = users\n",
        "        self.products = products\n",
        "        self.num_recommendations = num_recommendations\n",
        "\n",
        "    @tf.function\n",
        "    def call_item_item(self, product):\n",
        "        # Implement the logic for item-item recommendation\n",
        "        # Return the recommendations\n",
        "        recommendations = [10]  # Replace [...] with your recommendation logic\n",
        "        return recommendations\n",
        "\n",
        "# Instantiate the SimpleRecommender class\n",
        "users = ['user1']  # List of users\n",
        "products = [...]  # List of products\n",
        "num_recommendations = ...  # Number of recommendations\n",
        "\n",
        "# Instantiate the SimpleRecommender class\n",
        "model = SimpleRecommender(users, products, num_recommendations)\n",
        "\n",
        "# Create the input signature\n",
        "input_signature = tf.TensorSpec(shape=None, dtype=tf.int32)\n",
        "\n",
        "# Create a dictionary of signatures\n",
        "signatures = {'call_item_item': model.call_item_item.get_concrete_function(input_signature)}\n",
        "\n",
        "# Print the signatures\n",
        "print(signatures)"
      ]
    },
    {
      "cell_type": "code",
      "execution_count": null,
      "metadata": {
        "id": "bu1dnVgTSaQQ"
      },
      "outputs": [],
      "source": []
    },
    {
      "cell_type": "code",
      "execution_count": null,
      "metadata": {
        "id": "uv1lF779SaQQ",
        "colab": {
          "base_uri": "https://localhost:8080/",
          "height": 460
        },
        "outputId": "d80c99b8-33c0-444e-f995-97812f1f499a"
      },
      "outputs": [
        {
          "output_type": "error",
          "ename": "OSError",
          "evalue": "ignored",
          "traceback": [
            "\u001b[0;31m---------------------------------------------------------------------------\u001b[0m",
            "\u001b[0;31mOSError\u001b[0m                                   Traceback (most recent call last)",
            "\u001b[0;32m<ipython-input-98-b2379e1107c3>\u001b[0m in \u001b[0;36m<cell line: 2>\u001b[0;34m()\u001b[0m\n\u001b[1;32m      1\u001b[0m \u001b[0;32mimport\u001b[0m \u001b[0mos\u001b[0m\u001b[0;34m\u001b[0m\u001b[0;34m\u001b[0m\u001b[0m\n\u001b[0;32m----> 2\u001b[0;31m \u001b[0mimported_model\u001b[0m \u001b[0;34m=\u001b[0m \u001b[0mtf\u001b[0m\u001b[0;34m.\u001b[0m\u001b[0msaved_model\u001b[0m\u001b[0;34m.\u001b[0m\u001b[0mload\u001b[0m\u001b[0;34m(\u001b[0m\u001b[0mos\u001b[0m\u001b[0;34m.\u001b[0m\u001b[0mpath\u001b[0m\u001b[0;34m.\u001b[0m\u001b[0mabspath\u001b[0m\u001b[0;34m(\u001b[0m\u001b[0;34m'/drive/rentaloca'\u001b[0m\u001b[0;34m)\u001b[0m\u001b[0;34m)\u001b[0m\u001b[0;34m\u001b[0m\u001b[0;34m\u001b[0m\u001b[0m\n\u001b[0m",
            "\u001b[0;32m/usr/local/lib/python3.10/dist-packages/tensorflow/python/saved_model/load.py\u001b[0m in \u001b[0;36mload\u001b[0;34m(export_dir, tags, options)\u001b[0m\n\u001b[1;32m    834\u001b[0m   \u001b[0;32mif\u001b[0m \u001b[0misinstance\u001b[0m\u001b[0;34m(\u001b[0m\u001b[0mexport_dir\u001b[0m\u001b[0;34m,\u001b[0m \u001b[0mos\u001b[0m\u001b[0;34m.\u001b[0m\u001b[0mPathLike\u001b[0m\u001b[0;34m)\u001b[0m\u001b[0;34m:\u001b[0m\u001b[0;34m\u001b[0m\u001b[0;34m\u001b[0m\u001b[0m\n\u001b[1;32m    835\u001b[0m     \u001b[0mexport_dir\u001b[0m \u001b[0;34m=\u001b[0m \u001b[0mos\u001b[0m\u001b[0;34m.\u001b[0m\u001b[0mfspath\u001b[0m\u001b[0;34m(\u001b[0m\u001b[0mexport_dir\u001b[0m\u001b[0;34m)\u001b[0m\u001b[0;34m\u001b[0m\u001b[0;34m\u001b[0m\u001b[0m\n\u001b[0;32m--> 836\u001b[0;31m   \u001b[0mresult\u001b[0m \u001b[0;34m=\u001b[0m \u001b[0mload_partial\u001b[0m\u001b[0;34m(\u001b[0m\u001b[0mexport_dir\u001b[0m\u001b[0;34m,\u001b[0m \u001b[0;32mNone\u001b[0m\u001b[0;34m,\u001b[0m \u001b[0mtags\u001b[0m\u001b[0;34m,\u001b[0m \u001b[0moptions\u001b[0m\u001b[0;34m)\u001b[0m\u001b[0;34m[\u001b[0m\u001b[0;34m\"root\"\u001b[0m\u001b[0;34m]\u001b[0m\u001b[0;34m\u001b[0m\u001b[0;34m\u001b[0m\u001b[0m\n\u001b[0m\u001b[1;32m    837\u001b[0m   \u001b[0;32mreturn\u001b[0m \u001b[0mresult\u001b[0m\u001b[0;34m\u001b[0m\u001b[0;34m\u001b[0m\u001b[0m\n\u001b[1;32m    838\u001b[0m \u001b[0;34m\u001b[0m\u001b[0m\n",
            "\u001b[0;32m/usr/local/lib/python3.10/dist-packages/tensorflow/python/saved_model/load.py\u001b[0m in \u001b[0;36mload_partial\u001b[0;34m(export_dir, filters, tags, options)\u001b[0m\n\u001b[1;32m    939\u001b[0m     \u001b[0mtags\u001b[0m \u001b[0;34m=\u001b[0m \u001b[0mnest\u001b[0m\u001b[0;34m.\u001b[0m\u001b[0mflatten\u001b[0m\u001b[0;34m(\u001b[0m\u001b[0mtags\u001b[0m\u001b[0;34m)\u001b[0m\u001b[0;34m\u001b[0m\u001b[0;34m\u001b[0m\u001b[0m\n\u001b[1;32m    940\u001b[0m   saved_model_proto, debug_info = (\n\u001b[0;32m--> 941\u001b[0;31m       loader_impl.parse_saved_model_with_debug_info(export_dir))\n\u001b[0m\u001b[1;32m    942\u001b[0m \u001b[0;34m\u001b[0m\u001b[0m\n\u001b[1;32m    943\u001b[0m   if (len(saved_model_proto.meta_graphs) == 1 and\n",
            "\u001b[0;32m/usr/local/lib/python3.10/dist-packages/tensorflow/python/saved_model/loader_impl.py\u001b[0m in \u001b[0;36mparse_saved_model_with_debug_info\u001b[0;34m(export_dir)\u001b[0m\n\u001b[1;32m     56\u001b[0m     \u001b[0mparsed\u001b[0m\u001b[0;34m.\u001b[0m \u001b[0mMissing\u001b[0m \u001b[0mgraph\u001b[0m \u001b[0mdebug\u001b[0m \u001b[0minfo\u001b[0m \u001b[0mfile\u001b[0m \u001b[0;32mis\u001b[0m \u001b[0mfine\u001b[0m\u001b[0;34m.\u001b[0m\u001b[0;34m\u001b[0m\u001b[0;34m\u001b[0m\u001b[0m\n\u001b[1;32m     57\u001b[0m   \"\"\"\n\u001b[0;32m---> 58\u001b[0;31m   \u001b[0msaved_model\u001b[0m \u001b[0;34m=\u001b[0m \u001b[0mparse_saved_model\u001b[0m\u001b[0;34m(\u001b[0m\u001b[0mexport_dir\u001b[0m\u001b[0;34m)\u001b[0m\u001b[0;34m\u001b[0m\u001b[0;34m\u001b[0m\u001b[0m\n\u001b[0m\u001b[1;32m     59\u001b[0m \u001b[0;34m\u001b[0m\u001b[0m\n\u001b[1;32m     60\u001b[0m   debug_info_path = file_io.join(\n",
            "\u001b[0;32m/usr/local/lib/python3.10/dist-packages/tensorflow/python/saved_model/loader_impl.py\u001b[0m in \u001b[0;36mparse_saved_model\u001b[0;34m(export_dir)\u001b[0m\n\u001b[1;32m    114\u001b[0m       \u001b[0;32mraise\u001b[0m \u001b[0mIOError\u001b[0m\u001b[0;34m(\u001b[0m\u001b[0;34mf\"Cannot parse file {path_to_pbtxt}: {str(e)}.\"\u001b[0m\u001b[0;34m)\u001b[0m\u001b[0;34m\u001b[0m\u001b[0;34m\u001b[0m\u001b[0m\n\u001b[1;32m    115\u001b[0m   \u001b[0;32melse\u001b[0m\u001b[0;34m:\u001b[0m\u001b[0;34m\u001b[0m\u001b[0;34m\u001b[0m\u001b[0m\n\u001b[0;32m--> 116\u001b[0;31m     raise IOError(\n\u001b[0m\u001b[1;32m    117\u001b[0m         \u001b[0;34mf\"SavedModel file does not exist at: {export_dir}{os.path.sep}\"\u001b[0m\u001b[0;34m\u001b[0m\u001b[0;34m\u001b[0m\u001b[0m\n\u001b[1;32m    118\u001b[0m         \u001b[0;34mf\"{{{constants.SAVED_MODEL_FILENAME_PBTXT}|\"\u001b[0m\u001b[0;34m\u001b[0m\u001b[0;34m\u001b[0m\u001b[0m\n",
            "\u001b[0;31mOSError\u001b[0m: SavedModel file does not exist at: /drive/rentaloca/{saved_model.pbtxt|saved_model.pb}"
          ]
        }
      ],
      "source": [
        "import os\n",
        "imported_model = tf.saved_model.load(os.path.abspath('/drive/rentaloca'))\n"
      ]
    },
    {
      "cell_type": "code",
      "execution_count": null,
      "metadata": {
        "id": "vrfwyuQDSaQR",
        "colab": {
          "base_uri": "https://localhost:8080/",
          "height": 215
        },
        "outputId": "9b4ca9aa-9d1d-4417-813c-c5ccf93a8ae9"
      },
      "outputs": [
        {
          "output_type": "error",
          "ename": "NameError",
          "evalue": "ignored",
          "traceback": [
            "\u001b[0;31m---------------------------------------------------------------------------\u001b[0m",
            "\u001b[0;31mNameError\u001b[0m                                 Traceback (most recent call last)",
            "\u001b[0;32m<ipython-input-90-33be0cd5ba16>\u001b[0m in \u001b[0;36m<cell line: 1>\u001b[0;34m()\u001b[0m\n\u001b[0;32m----> 1\u001b[0;31m \u001b[0mimported_model\u001b[0m\u001b[0;34m.\u001b[0m\u001b[0msignatures\u001b[0m\u001b[0;34m[\u001b[0m\u001b[0;34m'call_item_item'\u001b[0m\u001b[0;34m]\u001b[0m\u001b[0;34m(\u001b[0m\u001b[0mtf\u001b[0m\u001b[0;34m.\u001b[0m\u001b[0mconstant\u001b[0m\u001b[0;34m(\u001b[0m\u001b[0;34m[\u001b[0m\u001b[0;36m14844847\u001b[0m\u001b[0;34m]\u001b[0m\u001b[0;34m)\u001b[0m\u001b[0;34m)\u001b[0m\u001b[0;34m\u001b[0m\u001b[0;34m\u001b[0m\u001b[0m\n\u001b[0m",
            "\u001b[0;31mNameError\u001b[0m: name 'imported_model' is not defined"
          ]
        }
      ],
      "source": [
        "imported_model.signatures['call_item_item'](tf.constant([14844847]))"
      ]
    },
    {
      "cell_type": "code",
      "execution_count": null,
      "metadata": {
        "id": "Jj3zFgQ7SaQR",
        "colab": {
          "base_uri": "https://localhost:8080/",
          "height": 303
        },
        "outputId": "a13da754-f093-4efe-8748-c795fb800572"
      },
      "outputs": [
        {
          "output_type": "stream",
          "name": "stderr",
          "text": [
            "WARNING:tensorflow:Skipping full serialization of Keras layer <__main__.SimpleRecommender object at 0x7f3a1b94df00>, because it is not built.\n",
            "WARNING:tensorflow:Model's `__init__()` arguments contain non-serializable objects. Please implement a `get_config()` method in the subclassed Model for proper saving and loading. Defaulting to empty config.\n",
            "WARNING:tensorflow:Model's `__init__()` arguments contain non-serializable objects. Please implement a `get_config()` method in the subclassed Model for proper saving and loading. Defaulting to empty config.\n"
          ]
        },
        {
          "output_type": "error",
          "ename": "TypeError",
          "evalue": "ignored",
          "traceback": [
            "\u001b[0;31m---------------------------------------------------------------------------\u001b[0m",
            "\u001b[0;31mTypeError\u001b[0m                                 Traceback (most recent call last)",
            "\u001b[0;32m<ipython-input-91-4f068e02eef9>\u001b[0m in \u001b[0;36m<cell line: 4>\u001b[0;34m()\u001b[0m\n\u001b[1;32m      2\u001b[0m \u001b[0mtf\u001b[0m\u001b[0;34m.\u001b[0m\u001b[0msaved_model\u001b[0m\u001b[0;34m.\u001b[0m\u001b[0msave\u001b[0m\u001b[0;34m(\u001b[0m\u001b[0mmodel\u001b[0m\u001b[0;34m,\u001b[0m \u001b[0;34m'dummy/0'\u001b[0m\u001b[0;34m)\u001b[0m\u001b[0;34m\u001b[0m\u001b[0;34m\u001b[0m\u001b[0m\n\u001b[1;32m      3\u001b[0m \u001b[0mimported\u001b[0m \u001b[0;34m=\u001b[0m \u001b[0mtf\u001b[0m\u001b[0;34m.\u001b[0m\u001b[0msaved_model\u001b[0m\u001b[0;34m.\u001b[0m\u001b[0mload\u001b[0m\u001b[0;34m(\u001b[0m\u001b[0;34m\"dummy/0\"\u001b[0m\u001b[0;34m)\u001b[0m\u001b[0;34m\u001b[0m\u001b[0;34m\u001b[0m\u001b[0m\n\u001b[0;32m----> 4\u001b[0;31m \u001b[0mimported\u001b[0m\u001b[0;34m(\u001b[0m\u001b[0mtf\u001b[0m\u001b[0;34m.\u001b[0m\u001b[0mconstant\u001b[0m\u001b[0;34m(\u001b[0m\u001b[0;34m[\u001b[0m\u001b[0;36m14844847\u001b[0m\u001b[0;34m]\u001b[0m\u001b[0;34m)\u001b[0m\u001b[0;34m)\u001b[0m\u001b[0;34m\u001b[0m\u001b[0;34m\u001b[0m\u001b[0m\n\u001b[0m",
            "\u001b[0;31mTypeError\u001b[0m: '_UserObject' object is not callable"
          ]
        }
      ],
      "source": [
        "os.makedirs(\"dummy/0\")\n",
        "tf.saved_model.save(model, 'dummy/0')\n",
        "imported = tf.saved_model.load(\"dummy/0\")\n",
        "imported(tf.constant([14844847]))"
      ]
    },
    {
      "cell_type": "code",
      "execution_count": null,
      "metadata": {
        "id": "GF6YH9LoSaQR",
        "colab": {
          "base_uri": "https://localhost:8080/",
          "height": 337
        },
        "outputId": "c72dc0e8-2499-4def-8a45-63cd2619f547"
      },
      "outputs": [
        {
          "output_type": "stream",
          "name": "stderr",
          "text": [
            "WARNING:tensorflow:Skipping full serialization of Keras layer <__main__.SimpleRecommender object at 0x7f3a1b94df00>, because it is not built.\n",
            "WARNING:tensorflow:Model's `__init__()` arguments contain non-serializable objects. Please implement a `get_config()` method in the subclassed Model for proper saving and loading. Defaulting to empty config.\n",
            "WARNING:tensorflow:Model's `__init__()` arguments contain non-serializable objects. Please implement a `get_config()` method in the subclassed Model for proper saving and loading. Defaulting to empty config.\n"
          ]
        },
        {
          "output_type": "error",
          "ename": "NameError",
          "evalue": "ignored",
          "traceback": [
            "\u001b[0;31m---------------------------------------------------------------------------\u001b[0m",
            "\u001b[0;31mNameError\u001b[0m                                 Traceback (most recent call last)",
            "\u001b[0;32m<ipython-input-94-00b34e7b91b4>\u001b[0m in \u001b[0;36m<cell line: 4>\u001b[0;34m()\u001b[0m\n\u001b[1;32m      2\u001b[0m tf.saved_model.save(model, 'dummy/1',\n\u001b[1;32m      3\u001b[0m                     model.call_item_item.get_concrete_function(tf.TensorSpec(shape=(), dtype=tf.int32)))      \n\u001b[0;32m----> 4\u001b[0;31m \u001b[0mlist\u001b[0m\u001b[0;34m(\u001b[0m\u001b[0mimported_model\u001b[0m\u001b[0;34m.\u001b[0m\u001b[0msignatures\u001b[0m\u001b[0;34m.\u001b[0m\u001b[0mkeys\u001b[0m\u001b[0;34m(\u001b[0m\u001b[0;34m)\u001b[0m\u001b[0;34m)\u001b[0m\u001b[0;34m\u001b[0m\u001b[0;34m\u001b[0m\u001b[0m\n\u001b[0m",
            "\u001b[0;31mNameError\u001b[0m: name 'imported_model' is not defined"
          ]
        }
      ],
      "source": [
        "os.makedirs(\"dummy/1\")\n",
        "tf.saved_model.save(model, 'dummy/1',\n",
        "                    model.call_item_item.get_concrete_function(tf.TensorSpec(shape=(), dtype=tf.int32)))\n",
        "list(imported_model.signatures.keys())"
      ]
    },
    {
      "cell_type": "code",
      "execution_count": null,
      "metadata": {
        "id": "pwaC7gwOSaQR",
        "colab": {
          "base_uri": "https://localhost:8080/",
          "height": 215
        },
        "outputId": "097e7eb1-57a3-4d2a-977c-3af1e4a04df5"
      },
      "outputs": [
        {
          "output_type": "error",
          "ename": "NameError",
          "evalue": "ignored",
          "traceback": [
            "\u001b[0;31m---------------------------------------------------------------------------\u001b[0m",
            "\u001b[0;31mNameError\u001b[0m                                 Traceback (most recent call last)",
            "\u001b[0;32m<ipython-input-93-41769a5bdc35>\u001b[0m in \u001b[0;36m<cell line: 1>\u001b[0;34m()\u001b[0m\n\u001b[0;32m----> 1\u001b[0;31m \u001b[0mimported_model\u001b[0m\u001b[0;34m.\u001b[0m\u001b[0msignatures\u001b[0m\u001b[0;34m[\u001b[0m\u001b[0;34m'serving_default'\u001b[0m\u001b[0;34m]\u001b[0m\u001b[0;34m(\u001b[0m\u001b[0mtf\u001b[0m\u001b[0;34m.\u001b[0m\u001b[0mconstant\u001b[0m\u001b[0;34m(\u001b[0m\u001b[0;34m[\u001b[0m\u001b[0;36m14844847\u001b[0m\u001b[0;34m]\u001b[0m\u001b[0;34m)\u001b[0m\u001b[0;34m)\u001b[0m\u001b[0;34m\u001b[0m\u001b[0;34m\u001b[0m\u001b[0m\n\u001b[0m",
            "\u001b[0;31mNameError\u001b[0m: name 'imported_model' is not defined"
          ]
        }
      ],
      "source": [
        "imported_model.signatures['serving_default'](tf.constant([14844847]))"
      ]
    },
    {
      "cell_type": "markdown",
      "metadata": {
        "id": "kSQXHPCESaQR"
      },
      "source": [
        "Zipping the saved model will make it easier to download."
      ]
    },
    {
      "cell_type": "code",
      "execution_count": null,
      "metadata": {
        "id": "N6MPuZS9SaQS"
      },
      "outputs": [],
      "source": [
        "from zipfile import ZipFile\n",
        "import os\n",
        "# create a ZipFile object\n",
        "with ZipFile('recommender.zip', 'w') as zipObj:\n",
        "   # Iterate over all the files in directory\n",
        "    for folderName, subfolders, filenames in os.walk(\"models\"):\n",
        "        for filename in filenames:\n",
        "           #create complete filepath of file in directory\n",
        "           filePath = os.path.join(folderName, filename)\n",
        "           # Add file to zip\n",
        "           zipObj.write(filePath)"
      ]
    },
    {
      "cell_type": "code",
      "execution_count": null,
      "metadata": {
        "id": "uplWF0MKSaQS"
      },
      "outputs": [],
      "source": []
    }
  ]
}